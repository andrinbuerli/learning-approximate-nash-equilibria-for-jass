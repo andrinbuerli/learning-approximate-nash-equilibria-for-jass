{
 "cells": [
  {
   "cell_type": "code",
   "execution_count": 1,
   "id": "3ef7fc4a",
   "metadata": {},
   "outputs": [],
   "source": [
    "from pathlib import Path\n",
    "import pprint\n",
    "import json\n",
    "import numpy as np\n",
    "from collections import defaultdict\n",
    "import pandas as pd\n",
    "from IPython.display import display, HTML\n",
    "from ipywidgets import interact\n",
    "from scipy.stats import t\n",
    "from scipy.stats import ttest_rel, ttest_1samp"
   ]
  },
  {
   "cell_type": "code",
   "execution_count": 8,
   "id": "d5cbbf95",
   "metadata": {},
   "outputs": [
    {
     "data": {
      "text/plain": [
       "[PosixPath('agents_eval_results/experiment-0'),\n",
       " PosixPath('agents_eval_results/experiment-1'),\n",
       " PosixPath('agents_eval_results/experiment-2'),\n",
       " PosixPath('agents_eval_results/experiment-3'),\n",
       " PosixPath('agents_eval_results/experiment-3-1'),\n",
       " PosixPath('agents_eval_results/experiment-4'),\n",
       " PosixPath('agents_eval_results/experiment-4-1'),\n",
       " PosixPath('agents_eval_results/experiment-4-more-exploration'),\n",
       " PosixPath('agents_eval_results/oos'),\n",
       " PosixPath('agents_eval_results/oos-eval'),\n",
       " PosixPath('agents_eval_results/tmp')]"
      ]
     },
     "execution_count": 8,
     "metadata": {},
     "output_type": "execute_result"
    }
   ],
   "source": [
    "folders = list(sorted(Path(f\"agents_eval_results/\").glob(\"*\"), reverse=False))\n",
    "folders "
   ]
  },
  {
   "cell_type": "code",
   "execution_count": 11,
   "id": "f75b5a1c",
   "metadata": {
    "scrolled": false
   },
   "outputs": [
    {
     "data": {
      "application/vnd.jupyter.widget-view+json": {
       "model_id": "c4f946fc3ad44a749461aaf1b3e6edc2",
       "version_major": 2,
       "version_minor": 0
      },
      "text/plain": [
       "interactive(children=(Dropdown(description='folder', options=(PosixPath('agents_eval_results/experiment-0'), P…"
      ]
     },
     "metadata": {},
     "output_type": "display_data"
    }
   ],
   "source": [
    "@interact(folder=folders)\n",
    "def f(folder):\n",
    "    print(40*\"-\")\n",
    "    print(folder, \"(null hypotheses is mu<= 50%)\")\n",
    "    print(40*\"-\")\n",
    "    relevant_data = defaultdict(lambda: {})\n",
    "    files = folder.glob(\"tmp/*.json\")\n",
    "\n",
    "    for file in files:\n",
    "        with open(str(file), \"r\") as f:\n",
    "            data = json.load(f)\n",
    "        \n",
    "        name =  Path(file).name.replace(\".json\", \"\")\n",
    "        opponent = name.split(\"-vs-\")[0].replace(\"-\", \" \")\n",
    "        agent = name.split(\"-vs-\")[1].replace(\"-\", \" \")\n",
    "\n",
    "        key = [x for x in data.keys() if not x.__contains__(\"DMCTS\") and not x.__contains__(\"DPolicy\")\n",
    "               and not x.__contains__(\"random\") and not x.__contains__(\"PMCTS\") and not x.__contains__(\"mean\")\n",
    "               and not x.__contains__(\"Policy-B\") and not x.__contains__(\"Policy-RAW\") and not x.__contains__(\"MCTS-100-3\")][0]\n",
    "\n",
    "        relevant_data[agent][opponent] = data[key]\n",
    "            \n",
    "    data = {k: {x: np.array(y) for x, y in v.items()} for k,v in relevant_data.items()}\n",
    "    data = {k: {x: y[:4*(y.shape[0]//4)].reshape(-1, 4) for x, y in v.items()} for k,v in data.items()}\n",
    "    data = {k: {x: y \n",
    "                for x, y in sorted(v.items(), key=lambda item: item[0])}\n",
    "            for k, v in sorted(data.items(), key=lambda item: item[0], reverse=True)} \n",
    "    \n",
    "    print_data = {}\n",
    "    \n",
    "    for agent in data:\n",
    "        print_data[agent] = {}\n",
    "        for x, y in data[agent].items():\n",
    "            mu =y.mean(axis=1).mean()\n",
    "            ste = y.mean(axis=1).std() / np.sqrt(y.shape[0])\n",
    "            p = ttest_1samp(y.reshape(-1), 0.5, nan_policy='omit', alternative='greater').pvalue\n",
    "            \n",
    "            print_data[agent][x] = f\"{mu.round(5)}+-{ste.round(5)} {y.shape}, p={p.round(5)}\"\n",
    "    \n",
    "    df = pd.DataFrame(print_data).T\n",
    "    \n",
    "    display(HTML(df.to_html()))\n",
    "    \n",
    "    print(40*\"-\")\n",
    "    print(\"Compare distributions of row agents:\")\n",
    "    print(40*\"-\")\n",
    "    \n",
    "    @interact(agent1=df.index, agent2=df.index)\n",
    "    def f(agent1, agent2):\n",
    "        \n",
    "        for opponent in df.columns:\n",
    "            if opponent in data[agent1] and opponent in data[agent2]:\n",
    "                print(opponent)\n",
    "                print(ttest_rel(data[agent1][opponent].reshape(-1)[:1000], data[agent2][opponent].reshape(-1)[:1000], nan_policy='omit'))\n",
    "\n",
    "        "
   ]
  }
 ],
 "metadata": {
  "kernelspec": {
   "display_name": "Python 3 (ipykernel)",
   "language": "python",
   "name": "python3"
  },
  "language_info": {
   "codemirror_mode": {
    "name": "ipython",
    "version": 3
   },
   "file_extension": ".py",
   "mimetype": "text/x-python",
   "name": "python",
   "nbconvert_exporter": "python",
   "pygments_lexer": "ipython3",
   "version": "3.8.10"
  }
 },
 "nbformat": 4,
 "nbformat_minor": 5
}
