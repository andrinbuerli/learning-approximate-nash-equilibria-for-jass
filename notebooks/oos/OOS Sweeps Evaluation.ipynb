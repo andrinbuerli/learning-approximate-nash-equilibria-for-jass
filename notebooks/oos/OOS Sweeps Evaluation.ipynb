{
 "cells": [
  {
   "cell_type": "code",
   "execution_count": 28,
   "id": "68d35593",
   "metadata": {},
   "outputs": [
    {
     "name": "stdout",
     "output_type": "stream",
     "text": [
      "processing run 489\r"
     ]
    },
    {
     "name": "stderr",
     "output_type": "stream",
     "text": [
      "\u001b[34m\u001b[1mwandb\u001b[0m: \u001b[33mWARNING\u001b[0m A graphql request initiated by the public wandb API timed out (timeout=9 sec). Create a new API with an integer timeout larger than 9, e.g., `api = wandb.Api(timeout=19)` to increase the graphql timeout.\n"
     ]
    },
    {
     "name": "stdout",
     "output_type": "stream",
     "text": [
      "processing run 596\r"
     ]
    }
   ],
   "source": [
    "import pandas as pd \n",
    "import wandb\n",
    "import numpy as np\n",
    "api = wandb.Api()\n",
    "\n",
    "# Project is specified by <entity/project-name>\n",
    "sweep = api.sweep(\"app-scripts_analyse/sweeps/h0lq7f5l\")\n",
    "#sweep = api.sweep(\"app-scripts_analyse_play/sweeps/5refs3e2\")\n",
    "\n",
    "run_list = []\n",
    "i = 0\n",
    "for run in sweep.runs: \n",
    "    print(f\"processing run {i}\", end=\"\\r\")\n",
    "    i += 1\n",
    "    # .summary contains the output keys/values for metrics like accuracy.\n",
    "    #  We call ._json_dict to omit large files \n",
    "    run_list.append({\n",
    "        \"name\": run.name,\n",
    "        **run.summary._json_dict,\n",
    "        **{k: v for k,v in run.config.items() if not k.startswith('_')}\n",
    "    })\n",
    "\n",
    "runs_df = pd.DataFrame(run_list)"
   ]
  },
  {
   "cell_type": "code",
   "execution_count": 29,
   "id": "55085097",
   "metadata": {},
   "outputs": [
    {
     "data": {
      "text/html": [
       "<div>\n",
       "<style scoped>\n",
       "    .dataframe tbody tr th:only-of-type {\n",
       "        vertical-align: middle;\n",
       "    }\n",
       "\n",
       "    .dataframe tbody tr th {\n",
       "        vertical-align: top;\n",
       "    }\n",
       "\n",
       "    .dataframe thead th {\n",
       "        text-align: right;\n",
       "    }\n",
       "</style>\n",
       "<table border=\"1\" class=\"dataframe\">\n",
       "  <thead>\n",
       "    <tr style=\"text-align: right;\">\n",
       "      <th></th>\n",
       "      <th>t0</th>\n",
       "      <th>delta</th>\n",
       "      <th>epsilon</th>\n",
       "    </tr>\n",
       "  </thead>\n",
       "  <tbody>\n",
       "    <tr>\n",
       "      <th>0</th>\n",
       "      <td>0.338433</td>\n",
       "      <td>0.5</td>\n",
       "      <td>1.0</td>\n",
       "    </tr>\n",
       "    <tr>\n",
       "      <th>1</th>\n",
       "      <td>0.302548</td>\n",
       "      <td>0.2</td>\n",
       "      <td>0.3</td>\n",
       "    </tr>\n",
       "    <tr>\n",
       "      <th>2</th>\n",
       "      <td>0.366076</td>\n",
       "      <td>1.0</td>\n",
       "      <td>0.6</td>\n",
       "    </tr>\n",
       "    <tr>\n",
       "      <th>3</th>\n",
       "      <td>0.330497</td>\n",
       "      <td>0.9</td>\n",
       "      <td>0.0</td>\n",
       "    </tr>\n",
       "    <tr>\n",
       "      <th>4</th>\n",
       "      <td>0.335287</td>\n",
       "      <td>0.4</td>\n",
       "      <td>0.0</td>\n",
       "    </tr>\n",
       "  </tbody>\n",
       "</table>\n",
       "</div>"
      ],
      "text/plain": [
       "         t0  delta  epsilon\n",
       "0  0.338433    0.5      1.0\n",
       "1  0.302548    0.2      0.3\n",
       "2  0.366076    1.0      0.6\n",
       "3  0.330497    0.9      0.0\n",
       "4  0.335287    0.4      0.0"
      ]
     },
     "execution_count": 29,
     "metadata": {},
     "output_type": "execute_result"
    }
   ],
   "source": [
    "df = runs_df[['t0', 'delta', 'epsilon']]\n",
    "df.head()"
   ]
  },
  {
   "cell_type": "code",
   "execution_count": 30,
   "id": "719c56a9",
   "metadata": {},
   "outputs": [],
   "source": [
    "n = 7"
   ]
  },
  {
   "cell_type": "code",
   "execution_count": 31,
   "id": "6a83c3c7",
   "metadata": {},
   "outputs": [
    {
     "name": "stdout",
     "output_type": "stream",
     "text": [
      "1 best delta: 1.0  with mean score 0.34185242528172466+-0.009859540322867448 over 65 runs \n",
      "\n",
      " \n",
      "2 best delta: 0.9  with mean score 0.3402653195695146+-0.00950760616523524 over 58 runs \n",
      "\n",
      " \n",
      "3 best delta: 0.8  with mean score 0.33771367910221417+-0.008876478064140169 over 63 runs \n",
      "\n",
      " \n",
      "4 best delta: 0.7  with mean score 0.33749493383152646+-0.007798533775104093 over 58 runs \n",
      "\n",
      " \n",
      "5 best delta: 0.6  with mean score 0.33540053895149435+-0.00858223765042975 over 52 runs \n",
      "\n",
      " \n",
      "6 best delta: 0.5  with mean score 0.33258951489130767+-0.009204437839074755 over 61 runs \n",
      "\n",
      " \n",
      "7 best delta: 0.4  with mean score 0.3284885582274232+-0.007968131968201446 over 63 runs \n",
      "\n",
      " \n"
     ]
    }
   ],
   "source": [
    "group = df.groupby(['delta'])\n",
    "means = group.mean()\n",
    "stds = group.std()\n",
    "\n",
    "top_n = means['t0'].values.argsort()[::-1][:n]\n",
    "\n",
    "for i in range(n):\n",
    "    print(f\"{i + 1} best delta: {means.index.values[top_n[i]]} \"\n",
    "          f\" with mean score {means.values[top_n[i]][0]}+-{stds.values[top_n[i]][0]}\",\n",
    "          f\"over {group.size().values[top_n[i]]} runs \\n\\n \")"
   ]
  },
  {
   "cell_type": "code",
   "execution_count": 32,
   "id": "55748288",
   "metadata": {},
   "outputs": [
    {
     "name": "stdout",
     "output_type": "stream",
     "text": [
      "1 best epsilon: 0.9  with mean score 0.3352570371892336+-0.012241452615183229 over 62 runs \n",
      "\n",
      " \n",
      "2 best epsilon: 0.0  with mean score 0.33444596066825366+-0.007815976584327476 over 55 runs \n",
      "\n",
      " \n",
      "3 best epsilon: 1.0  with mean score 0.33364199563595254+-0.014050788172877096 over 51 runs \n",
      "\n",
      " \n",
      "4 best epsilon: 0.4  with mean score 0.3329664043961534+-0.011125531809146003 over 51 runs \n",
      "\n",
      " \n",
      "5 best epsilon: 0.8  with mean score 0.3325653802922443+-0.014013092154222096 over 68 runs \n",
      "\n",
      " \n",
      "6 best epsilon: 0.6  with mean score 0.33237149283070544+-0.012093728469009584 over 52 runs \n",
      "\n",
      " \n",
      "7 best epsilon: 0.5  with mean score 0.3312421540243196+-0.010193262586157215 over 55 runs \n",
      "\n",
      " \n"
     ]
    }
   ],
   "source": [
    "group = df.groupby(['epsilon'])\n",
    "means = group.mean()\n",
    "stds = group.std()\n",
    "\n",
    "top_n = means['t0'].values.argsort()[::-1][:n]\n",
    "\n",
    "for i in range(n):\n",
    "    print(f\"{i + 1} best epsilon: {means.index.values[top_n[i]]} \"\n",
    "          f\" with mean score {means.values[top_n[i]][0]}+-{stds.values[top_n[i]][0]}\",\n",
    "          f\"over {group.size().values[top_n[i]]} runs \\n\\n \")"
   ]
  },
  {
   "cell_type": "code",
   "execution_count": 33,
   "id": "a72a87c8",
   "metadata": {},
   "outputs": [
    {
     "name": "stdout",
     "output_type": "stream",
     "text": [
      "\n",
      "\n",
      " 1 best combination: [('epsilon', 0.9), ('delta', 0.9)]  with mean score 0.35070828025477707+-0.003934270700223174 over 5 runs\n",
      "\n",
      "\n",
      " 2 best combination: [('epsilon', 0.7), ('delta', 1.0)]  with mean score 0.34936305732484074+-0.008980512256517893 over 3 runs\n",
      "\n",
      "\n",
      " 3 best combination: [('epsilon', 0.6), ('delta', 1.0)]  with mean score 0.34887898089171976+-0.01178877138793313 over 5 runs\n",
      "\n",
      "\n",
      " 4 best combination: [('epsilon', 0.8), ('delta', 1.0)]  with mean score 0.3475959963603276+-0.009337784440264259 over 7 runs\n",
      "\n",
      "\n",
      " 5 best combination: [('epsilon', 0.8), ('delta', 0.9)]  with mean score 0.3475745222929937+-0.011412497055871065 over 5 runs\n",
      "\n",
      "\n",
      " 6 best combination: [('epsilon', 1.0), ('delta', 1.0)]  with mean score 0.34590658174097666+-0.006788383712947875 over 9 runs\n",
      "\n",
      "\n",
      " 7 best combination: [('epsilon', 1.0), ('delta', 0.9)]  with mean score 0.3457088262056415+-0.0070010457619414 over 7 runs\n"
     ]
    }
   ],
   "source": [
    "group = df.groupby(['epsilon', 'delta'])\n",
    "means = group.mean()\n",
    "stds = group.std()\n",
    "\n",
    "top_n = means['t0'].values.argsort()[::-1][:n]\n",
    "\n",
    "for i in range(n):\n",
    "    print(f\"\\n\\n {i + 1} best combination: {list(zip(means.index.names, means.index.values[top_n[i]]))} \"\n",
    "          f\" with mean score {means.values[top_n[i]][0]}+-{stds.values[top_n[i]][0]}\",\n",
    "          f\"over {group.size().values[top_n[i]]} runs\")"
   ]
  },
  {
   "cell_type": "code",
   "execution_count": 37,
   "id": "a6a92644",
   "metadata": {},
   "outputs": [
    {
     "name": "stdout",
     "output_type": "stream",
     "text": [
      "\n",
      "\\begin{tabular}{l|c|c|c}\n",
      " \\toprule\n",
      "Iterations & $\\delta$ & $\\epsilon$ & $\\text{APAMCTS}_{50}$  \\\\ \n",
      "\\hline $10^2$ & 0.9 & 0.9 & $0.351\\pm0.004$ \\\\ \n",
      "\\hline $10^2$ & 1.0 & 0.7 & $0.349\\pm0.009$ \\\\ \n",
      "\\hline $10^2$ & 1.0 & 0.6 & $0.349\\pm0.012$ \\\\ \n",
      "\\hline $10^2$ & 1.0 & 0.8 & $0.348\\pm0.009$ \\\\ \n",
      "\\hline $10^2$ & 0.9 & 0.8 & $0.348\\pm0.011$ \\\\ \n",
      "\\bottomrule\n",
      "\\end{tabular}\n"
     ]
    }
   ],
   "source": [
    "group = df.groupby(['epsilon', 'delta'])\n",
    "means = group.mean()\n",
    "stds = group.std()\n",
    "\n",
    "top_n = means['t0'].values.argsort()[::-1][:5]\n",
    "table = \"\"\"\n",
    "\\\\begin{tabular}{l|c|c|c}\\n \\\\toprule\n",
    "Iterations & $\\\\delta$ & $\\\\epsilon$ & $\\\\text{APAMCTS}_{50}$  \\\\\\\\ \\n\"\"\"\n",
    "\n",
    "for i in range(5):\n",
    "    mu = means.values[top_n[i]][0]\n",
    "    std = stds.values[top_n[i]][0]\n",
    "\n",
    "    mu = np.around(mu, 3)\n",
    "    std = np.around(std, 3)\n",
    "\n",
    "    eps, delta = means.index[top_n[i]]\n",
    "    \n",
    "    table += \"\\\\hline $10^2$ & {} & {} & ${:.3f}\\\\pm{:.3f}$ \\\\\\\\ \\n\".format(delta, eps, mu, std)\n",
    "    \n",
    "table += \"\\\\bottomrule\\n\\end{tabular}\"\n",
    "print(table)"
   ]
  },
  {
   "cell_type": "code",
   "execution_count": null,
   "id": "f145ccde",
   "metadata": {},
   "outputs": [],
   "source": []
  }
 ],
 "metadata": {
  "kernelspec": {
   "display_name": "Python 3 (ipykernel)",
   "language": "python",
   "name": "python3"
  },
  "language_info": {
   "codemirror_mode": {
    "name": "ipython",
    "version": 3
   },
   "file_extension": ".py",
   "mimetype": "text/x-python",
   "name": "python",
   "nbconvert_exporter": "python",
   "pygments_lexer": "ipython3",
   "version": "3.8.10"
  }
 },
 "nbformat": 4,
 "nbformat_minor": 5
}
